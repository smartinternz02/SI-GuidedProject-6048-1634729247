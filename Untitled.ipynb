{
 "cells": [
  {
   "cell_type": "code",
   "execution_count": 2,
   "id": "6b427121",
   "metadata": {},
   "outputs": [],
   "source": [
    "from tensorflow.keras.models import load_model\n",
    "from keras.preprocessing import image"
   ]
  },
  {
   "cell_type": "code",
   "execution_count": 3,
   "id": "5941b529",
   "metadata": {},
   "outputs": [],
   "source": [
    "model = load_model(\"missing_person.h5\")"
   ]
  },
  {
   "cell_type": "code",
   "execution_count": 6,
   "id": "3fb21542",
   "metadata": {},
   "outputs": [],
   "source": [
    "img = image.load_img(\"img1.jpeg\",target_size = (64,64))"
   ]
  },
  {
   "cell_type": "code",
   "execution_count": 8,
   "id": "f78ab943",
   "metadata": {},
   "outputs": [
    {
     "name": "stdout",
     "output_type": "stream",
     "text": [
      "0\n"
     ]
    }
   ],
   "source": [
    "import numpy as np\n",
    "x = image.img_to_array(img)#image to array\n",
    "x = np.expand_dims(x,axis = 0)#changing the shape\n",
    "#pred=model.predict_classes(x)\n",
    "y=int (model.predict(x))\n",
    "print(y)\n",
    "#pred = np.argmax(y,axis=1)#predicting the classes\n",
    "#pred"
   ]
  },
  {
   "cell_type": "code",
   "execution_count": 9,
   "id": "8366bac8",
   "metadata": {},
   "outputs": [
    {
     "data": {
      "text/plain": [
       "'Found Missing'"
      ]
     },
     "execution_count": 9,
     "metadata": {},
     "output_type": "execute_result"
    }
   ],
   "source": [
    "index=['Found Missing', 'Normal']\n",
    "result=str(index[y])\n",
    "result"
   ]
  },
  {
   "cell_type": "code",
   "execution_count": null,
   "id": "709d2b9d",
   "metadata": {},
   "outputs": [],
   "source": []
  }
 ],
 "metadata": {
  "kernelspec": {
   "display_name": "Python 3",
   "language": "python",
   "name": "python3"
  },
  "language_info": {
   "codemirror_mode": {
    "name": "ipython",
    "version": 3
   },
   "file_extension": ".py",
   "mimetype": "text/x-python",
   "name": "python",
   "nbconvert_exporter": "python",
   "pygments_lexer": "ipython3",
   "version": "3.8.8"
  }
 },
 "nbformat": 4,
 "nbformat_minor": 5
}
